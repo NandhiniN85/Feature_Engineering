{
 "cells": [
  {
   "cell_type": "code",
   "execution_count": 59,
   "metadata": {},
   "outputs": [],
   "source": [
    "import pandas as pd\n",
    "import numpy as np\n",
    "import category_encoders as catenc"
   ]
  },
  {
   "cell_type": "code",
   "execution_count": 77,
   "metadata": {},
   "outputs": [],
   "source": [
    "data_df = pd.read_excel('test_Data.xlsx')"
   ]
  },
  {
   "cell_type": "code",
   "execution_count": 78,
   "metadata": {},
   "outputs": [
    {
     "name": "stdout",
     "output_type": "stream",
     "text": [
      "<class 'pandas.core.frame.DataFrame'>\n",
      "RangeIndex: 14745 entries, 0 to 14744\n",
      "Data columns (total 25 columns):\n",
      " #   Column           Non-Null Count  Dtype         \n",
      "---  ------           --------------  -----         \n",
      " 0   ID               14745 non-null  int64         \n",
      " 1   Frequency        14745 non-null  object        \n",
      " 2   InstlmentMode    14745 non-null  object        \n",
      " 3   LoanStatus       14745 non-null  object        \n",
      " 4   PaymentMode      14745 non-null  object        \n",
      " 5   BranchID         14745 non-null  int64         \n",
      " 6   Area             14199 non-null  object        \n",
      " 7   Tenure           14745 non-null  int64         \n",
      " 8   AssetCost        14745 non-null  int64         \n",
      " 9   AmountFinance    14745 non-null  float64       \n",
      " 10  DisbursalAmount  14745 non-null  float64       \n",
      " 11  EMI              14745 non-null  float64       \n",
      " 12  DisbursalDate    14745 non-null  datetime64[ns]\n",
      " 13  MaturityDAte     14745 non-null  datetime64[ns]\n",
      " 14  AuthDate         14745 non-null  datetime64[ns]\n",
      " 15  AssetID          14745 non-null  int64         \n",
      " 16  ManufacturerID   14743 non-null  float64       \n",
      " 17  SupplierID       14745 non-null  int64         \n",
      " 18  LTV              14745 non-null  float64       \n",
      " 19  SEX              14740 non-null  object        \n",
      " 20  AGE              14738 non-null  float64       \n",
      " 21  MonthlyIncome    14731 non-null  float64       \n",
      " 22  City             14745 non-null  object        \n",
      " 23  State            14745 non-null  object        \n",
      " 24  ZiPCODE          14744 non-null  float64       \n",
      "dtypes: datetime64[ns](3), float64(8), int64(6), object(8)\n",
      "memory usage: 2.8+ MB\n"
     ]
    }
   ],
   "source": [
    "data_df.info()"
   ]
  },
  {
   "cell_type": "code",
   "execution_count": 79,
   "metadata": {},
   "outputs": [],
   "source": [
    "data_df.dropna(inplace=True)"
   ]
  },
  {
   "cell_type": "code",
   "execution_count": 80,
   "metadata": {},
   "outputs": [
    {
     "data": {
      "text/plain": [
       "2062"
      ]
     },
     "execution_count": 80,
     "metadata": {},
     "output_type": "execute_result"
    }
   ],
   "source": [
    "data_df['ZiPCODE'].nunique()"
   ]
  },
  {
   "cell_type": "code",
   "execution_count": 81,
   "metadata": {},
   "outputs": [],
   "source": [
    "encoder_zipcode = catenc.HashingEncoder(n_components=10, cols=['ZiPCODE'])\n",
    "encoded_df = encoder_zipcode.fit_transform(data_df)"
   ]
  },
  {
   "cell_type": "code",
   "execution_count": 82,
   "metadata": {},
   "outputs": [
    {
     "name": "stdout",
     "output_type": "stream",
     "text": [
      "<class 'pandas.core.frame.DataFrame'>\n",
      "RangeIndex: 14182 entries, 0 to 14181\n",
      "Data columns (total 34 columns):\n",
      " #   Column           Non-Null Count  Dtype         \n",
      "---  ------           --------------  -----         \n",
      " 0   col_0            14182 non-null  int64         \n",
      " 1   col_1            14182 non-null  int64         \n",
      " 2   col_2            14182 non-null  int64         \n",
      " 3   col_3            14182 non-null  int64         \n",
      " 4   col_4            14182 non-null  int64         \n",
      " 5   col_5            14182 non-null  int64         \n",
      " 6   col_6            14182 non-null  int64         \n",
      " 7   col_7            14182 non-null  int64         \n",
      " 8   col_8            14182 non-null  int64         \n",
      " 9   col_9            14182 non-null  int64         \n",
      " 10  ID               14182 non-null  int64         \n",
      " 11  Frequency        14182 non-null  object        \n",
      " 12  InstlmentMode    14182 non-null  object        \n",
      " 13  LoanStatus       14182 non-null  object        \n",
      " 14  PaymentMode      14182 non-null  object        \n",
      " 15  BranchID         14182 non-null  int64         \n",
      " 16  Area             14182 non-null  object        \n",
      " 17  Tenure           14182 non-null  int64         \n",
      " 18  AssetCost        14182 non-null  int64         \n",
      " 19  AmountFinance    14182 non-null  float64       \n",
      " 20  DisbursalAmount  14182 non-null  float64       \n",
      " 21  EMI              14182 non-null  float64       \n",
      " 22  DisbursalDate    14182 non-null  datetime64[ns]\n",
      " 23  MaturityDAte     14182 non-null  datetime64[ns]\n",
      " 24  AuthDate         14182 non-null  datetime64[ns]\n",
      " 25  AssetID          14182 non-null  int64         \n",
      " 26  ManufacturerID   14182 non-null  float64       \n",
      " 27  SupplierID       14182 non-null  int64         \n",
      " 28  LTV              14182 non-null  float64       \n",
      " 29  SEX              14182 non-null  object        \n",
      " 30  AGE              14182 non-null  float64       \n",
      " 31  MonthlyIncome    14182 non-null  float64       \n",
      " 32  City             14182 non-null  object        \n",
      " 33  State            14182 non-null  object        \n",
      "dtypes: datetime64[ns](3), float64(7), int64(16), object(8)\n",
      "memory usage: 3.7+ MB\n"
     ]
    }
   ],
   "source": [
    "encoded_df.info()"
   ]
  },
  {
   "cell_type": "code",
   "execution_count": 83,
   "metadata": {},
   "outputs": [
    {
     "data": {
      "text/html": [
       "<div>\n",
       "<style scoped>\n",
       "    .dataframe tbody tr th:only-of-type {\n",
       "        vertical-align: middle;\n",
       "    }\n",
       "\n",
       "    .dataframe tbody tr th {\n",
       "        vertical-align: top;\n",
       "    }\n",
       "\n",
       "    .dataframe thead th {\n",
       "        text-align: right;\n",
       "    }\n",
       "</style>\n",
       "<table border=\"1\" class=\"dataframe\">\n",
       "  <thead>\n",
       "    <tr style=\"text-align: right;\">\n",
       "      <th></th>\n",
       "      <th>col_0</th>\n",
       "      <th>col_1</th>\n",
       "      <th>col_2</th>\n",
       "      <th>col_3</th>\n",
       "      <th>col_4</th>\n",
       "      <th>col_5</th>\n",
       "      <th>col_6</th>\n",
       "      <th>col_7</th>\n",
       "      <th>col_8</th>\n",
       "      <th>col_9</th>\n",
       "      <th>...</th>\n",
       "      <th>AuthDate</th>\n",
       "      <th>AssetID</th>\n",
       "      <th>ManufacturerID</th>\n",
       "      <th>SupplierID</th>\n",
       "      <th>LTV</th>\n",
       "      <th>SEX</th>\n",
       "      <th>AGE</th>\n",
       "      <th>MonthlyIncome</th>\n",
       "      <th>City</th>\n",
       "      <th>State</th>\n",
       "    </tr>\n",
       "  </thead>\n",
       "  <tbody>\n",
       "    <tr>\n",
       "      <th>0</th>\n",
       "      <td>0</td>\n",
       "      <td>0</td>\n",
       "      <td>0</td>\n",
       "      <td>1</td>\n",
       "      <td>0</td>\n",
       "      <td>0</td>\n",
       "      <td>0</td>\n",
       "      <td>0</td>\n",
       "      <td>0</td>\n",
       "      <td>0</td>\n",
       "      <td>...</td>\n",
       "      <td>2011-12-29</td>\n",
       "      <td>3524747</td>\n",
       "      <td>1046.0</td>\n",
       "      <td>22354</td>\n",
       "      <td>75.83</td>\n",
       "      <td>M</td>\n",
       "      <td>50.0</td>\n",
       "      <td>32069.00</td>\n",
       "      <td>GUNA</td>\n",
       "      <td>MADHYA PRADESH</td>\n",
       "    </tr>\n",
       "    <tr>\n",
       "      <th>1</th>\n",
       "      <td>0</td>\n",
       "      <td>0</td>\n",
       "      <td>0</td>\n",
       "      <td>1</td>\n",
       "      <td>0</td>\n",
       "      <td>0</td>\n",
       "      <td>0</td>\n",
       "      <td>0</td>\n",
       "      <td>0</td>\n",
       "      <td>0</td>\n",
       "      <td>...</td>\n",
       "      <td>2012-04-28</td>\n",
       "      <td>4985862</td>\n",
       "      <td>1046.0</td>\n",
       "      <td>22354</td>\n",
       "      <td>57.44</td>\n",
       "      <td>M</td>\n",
       "      <td>35.0</td>\n",
       "      <td>25000.00</td>\n",
       "      <td>GUNA</td>\n",
       "      <td>MADHYA PRADESH</td>\n",
       "    </tr>\n",
       "    <tr>\n",
       "      <th>2</th>\n",
       "      <td>0</td>\n",
       "      <td>0</td>\n",
       "      <td>0</td>\n",
       "      <td>1</td>\n",
       "      <td>0</td>\n",
       "      <td>0</td>\n",
       "      <td>0</td>\n",
       "      <td>0</td>\n",
       "      <td>0</td>\n",
       "      <td>0</td>\n",
       "      <td>...</td>\n",
       "      <td>2013-10-22</td>\n",
       "      <td>12881783</td>\n",
       "      <td>1060.0</td>\n",
       "      <td>65929</td>\n",
       "      <td>68.97</td>\n",
       "      <td>M</td>\n",
       "      <td>37.0</td>\n",
       "      <td>23333.33</td>\n",
       "      <td>GUNA</td>\n",
       "      <td>MADHYA PRADESH</td>\n",
       "    </tr>\n",
       "    <tr>\n",
       "      <th>3</th>\n",
       "      <td>0</td>\n",
       "      <td>0</td>\n",
       "      <td>0</td>\n",
       "      <td>0</td>\n",
       "      <td>0</td>\n",
       "      <td>0</td>\n",
       "      <td>0</td>\n",
       "      <td>0</td>\n",
       "      <td>0</td>\n",
       "      <td>1</td>\n",
       "      <td>...</td>\n",
       "      <td>2012-11-30</td>\n",
       "      <td>7911110</td>\n",
       "      <td>1049.0</td>\n",
       "      <td>38493</td>\n",
       "      <td>59.09</td>\n",
       "      <td>M</td>\n",
       "      <td>48.0</td>\n",
       "      <td>12500.00</td>\n",
       "      <td>JAGATSINGHAPUR</td>\n",
       "      <td>ORISSA</td>\n",
       "    </tr>\n",
       "    <tr>\n",
       "      <th>4</th>\n",
       "      <td>0</td>\n",
       "      <td>0</td>\n",
       "      <td>0</td>\n",
       "      <td>1</td>\n",
       "      <td>0</td>\n",
       "      <td>0</td>\n",
       "      <td>0</td>\n",
       "      <td>0</td>\n",
       "      <td>0</td>\n",
       "      <td>0</td>\n",
       "      <td>...</td>\n",
       "      <td>2013-07-31</td>\n",
       "      <td>11813447</td>\n",
       "      <td>1046.0</td>\n",
       "      <td>73027</td>\n",
       "      <td>57.34</td>\n",
       "      <td>F</td>\n",
       "      <td>49.0</td>\n",
       "      <td>41666.67</td>\n",
       "      <td>JAJAPUR</td>\n",
       "      <td>ORISSA</td>\n",
       "    </tr>\n",
       "  </tbody>\n",
       "</table>\n",
       "<p>5 rows × 34 columns</p>\n",
       "</div>"
      ],
      "text/plain": [
       "   col_0  col_1  col_2  col_3  col_4  col_5  col_6  col_7  col_8  col_9  ...  \\\n",
       "0      0      0      0      1      0      0      0      0      0      0  ...   \n",
       "1      0      0      0      1      0      0      0      0      0      0  ...   \n",
       "2      0      0      0      1      0      0      0      0      0      0  ...   \n",
       "3      0      0      0      0      0      0      0      0      0      1  ...   \n",
       "4      0      0      0      1      0      0      0      0      0      0  ...   \n",
       "\n",
       "    AuthDate   AssetID ManufacturerID SupplierID    LTV  SEX   AGE  \\\n",
       "0 2011-12-29   3524747         1046.0      22354  75.83    M  50.0   \n",
       "1 2012-04-28   4985862         1046.0      22354  57.44    M  35.0   \n",
       "2 2013-10-22  12881783         1060.0      65929  68.97    M  37.0   \n",
       "3 2012-11-30   7911110         1049.0      38493  59.09    M  48.0   \n",
       "4 2013-07-31  11813447         1046.0      73027  57.34    F  49.0   \n",
       "\n",
       "   MonthlyIncome            City           State  \n",
       "0       32069.00            GUNA  MADHYA PRADESH  \n",
       "1       25000.00            GUNA  MADHYA PRADESH  \n",
       "2       23333.33            GUNA  MADHYA PRADESH  \n",
       "3       12500.00  JAGATSINGHAPUR          ORISSA  \n",
       "4       41666.67         JAJAPUR          ORISSA  \n",
       "\n",
       "[5 rows x 34 columns]"
      ]
     },
     "execution_count": 83,
     "metadata": {},
     "output_type": "execute_result"
    }
   ],
   "source": [
    "encoded_df.head()"
   ]
  },
  {
   "cell_type": "code",
   "execution_count": 84,
   "metadata": {},
   "outputs": [
    {
     "data": {
      "text/plain": [
       "80"
      ]
     },
     "execution_count": 84,
     "metadata": {},
     "output_type": "execute_result"
    }
   ],
   "source": [
    "data_df['Area'].nunique()"
   ]
  },
  {
   "cell_type": "code",
   "execution_count": 85,
   "metadata": {},
   "outputs": [
    {
     "data": {
      "text/html": [
       "<div>\n",
       "<style scoped>\n",
       "    .dataframe tbody tr th:only-of-type {\n",
       "        vertical-align: middle;\n",
       "    }\n",
       "\n",
       "    .dataframe tbody tr th {\n",
       "        vertical-align: top;\n",
       "    }\n",
       "\n",
       "    .dataframe thead th {\n",
       "        text-align: right;\n",
       "    }\n",
       "</style>\n",
       "<table border=\"1\" class=\"dataframe\">\n",
       "  <thead>\n",
       "    <tr style=\"text-align: right;\">\n",
       "      <th></th>\n",
       "      <th>Area_0</th>\n",
       "      <th>Area_1</th>\n",
       "      <th>Area_2</th>\n",
       "      <th>Area_3</th>\n",
       "      <th>Area_4</th>\n",
       "      <th>Area_5</th>\n",
       "      <th>Area_6</th>\n",
       "      <th>Area_7</th>\n",
       "    </tr>\n",
       "  </thead>\n",
       "  <tbody>\n",
       "    <tr>\n",
       "      <th>0</th>\n",
       "      <td>0</td>\n",
       "      <td>0</td>\n",
       "      <td>0</td>\n",
       "      <td>0</td>\n",
       "      <td>0</td>\n",
       "      <td>0</td>\n",
       "      <td>0</td>\n",
       "      <td>1</td>\n",
       "    </tr>\n",
       "    <tr>\n",
       "      <th>1</th>\n",
       "      <td>0</td>\n",
       "      <td>0</td>\n",
       "      <td>0</td>\n",
       "      <td>0</td>\n",
       "      <td>0</td>\n",
       "      <td>0</td>\n",
       "      <td>0</td>\n",
       "      <td>1</td>\n",
       "    </tr>\n",
       "    <tr>\n",
       "      <th>2</th>\n",
       "      <td>0</td>\n",
       "      <td>0</td>\n",
       "      <td>0</td>\n",
       "      <td>0</td>\n",
       "      <td>0</td>\n",
       "      <td>0</td>\n",
       "      <td>0</td>\n",
       "      <td>1</td>\n",
       "    </tr>\n",
       "    <tr>\n",
       "      <th>4</th>\n",
       "      <td>0</td>\n",
       "      <td>0</td>\n",
       "      <td>0</td>\n",
       "      <td>0</td>\n",
       "      <td>0</td>\n",
       "      <td>0</td>\n",
       "      <td>1</td>\n",
       "      <td>0</td>\n",
       "    </tr>\n",
       "    <tr>\n",
       "      <th>5</th>\n",
       "      <td>0</td>\n",
       "      <td>0</td>\n",
       "      <td>0</td>\n",
       "      <td>0</td>\n",
       "      <td>0</td>\n",
       "      <td>0</td>\n",
       "      <td>1</td>\n",
       "      <td>0</td>\n",
       "    </tr>\n",
       "  </tbody>\n",
       "</table>\n",
       "</div>"
      ],
      "text/plain": [
       "   Area_0  Area_1  Area_2  Area_3  Area_4  Area_5  Area_6  Area_7\n",
       "0       0       0       0       0       0       0       0       1\n",
       "1       0       0       0       0       0       0       0       1\n",
       "2       0       0       0       0       0       0       0       1\n",
       "4       0       0       0       0       0       0       1       0\n",
       "5       0       0       0       0       0       0       1       0"
      ]
     },
     "execution_count": 85,
     "metadata": {},
     "output_type": "execute_result"
    }
   ],
   "source": [
    "binaryencoder = catenc.BinaryEncoder()\n",
    "binaryencoder.fit_transform(data_df['Area']).head()"
   ]
  },
  {
   "cell_type": "code",
   "execution_count": 86,
   "metadata": {},
   "outputs": [
    {
     "data": {
      "text/plain": [
       "307"
      ]
     },
     "execution_count": 86,
     "metadata": {},
     "output_type": "execute_result"
    }
   ],
   "source": [
    "data_df['City'].nunique()"
   ]
  },
  {
   "cell_type": "code",
   "execution_count": 87,
   "metadata": {},
   "outputs": [
    {
     "data": {
      "text/html": [
       "<div>\n",
       "<style scoped>\n",
       "    .dataframe tbody tr th:only-of-type {\n",
       "        vertical-align: middle;\n",
       "    }\n",
       "\n",
       "    .dataframe tbody tr th {\n",
       "        vertical-align: top;\n",
       "    }\n",
       "\n",
       "    .dataframe thead th {\n",
       "        text-align: right;\n",
       "    }\n",
       "</style>\n",
       "<table border=\"1\" class=\"dataframe\">\n",
       "  <thead>\n",
       "    <tr style=\"text-align: right;\">\n",
       "      <th></th>\n",
       "      <th>City_0</th>\n",
       "      <th>City_1</th>\n",
       "      <th>City_2</th>\n",
       "      <th>City_3</th>\n",
       "      <th>City_4</th>\n",
       "    </tr>\n",
       "  </thead>\n",
       "  <tbody>\n",
       "    <tr>\n",
       "      <th>0</th>\n",
       "      <td>0</td>\n",
       "      <td>0</td>\n",
       "      <td>0</td>\n",
       "      <td>0</td>\n",
       "      <td>1</td>\n",
       "    </tr>\n",
       "    <tr>\n",
       "      <th>1</th>\n",
       "      <td>0</td>\n",
       "      <td>0</td>\n",
       "      <td>0</td>\n",
       "      <td>0</td>\n",
       "      <td>1</td>\n",
       "    </tr>\n",
       "    <tr>\n",
       "      <th>2</th>\n",
       "      <td>0</td>\n",
       "      <td>0</td>\n",
       "      <td>0</td>\n",
       "      <td>0</td>\n",
       "      <td>1</td>\n",
       "    </tr>\n",
       "    <tr>\n",
       "      <th>4</th>\n",
       "      <td>0</td>\n",
       "      <td>0</td>\n",
       "      <td>0</td>\n",
       "      <td>0</td>\n",
       "      <td>2</td>\n",
       "    </tr>\n",
       "    <tr>\n",
       "      <th>5</th>\n",
       "      <td>0</td>\n",
       "      <td>0</td>\n",
       "      <td>0</td>\n",
       "      <td>0</td>\n",
       "      <td>3</td>\n",
       "    </tr>\n",
       "    <tr>\n",
       "      <th>6</th>\n",
       "      <td>0</td>\n",
       "      <td>0</td>\n",
       "      <td>0</td>\n",
       "      <td>0</td>\n",
       "      <td>4</td>\n",
       "    </tr>\n",
       "    <tr>\n",
       "      <th>7</th>\n",
       "      <td>0</td>\n",
       "      <td>0</td>\n",
       "      <td>0</td>\n",
       "      <td>1</td>\n",
       "      <td>0</td>\n",
       "    </tr>\n",
       "  </tbody>\n",
       "</table>\n",
       "</div>"
      ],
      "text/plain": [
       "   City_0  City_1  City_2  City_3  City_4\n",
       "0       0       0       0       0       1\n",
       "1       0       0       0       0       1\n",
       "2       0       0       0       0       1\n",
       "4       0       0       0       0       2\n",
       "5       0       0       0       0       3\n",
       "6       0       0       0       0       4\n",
       "7       0       0       0       1       0"
      ]
     },
     "execution_count": 87,
     "metadata": {},
     "output_type": "execute_result"
    }
   ],
   "source": [
    "basencoder = catenc.BaseNEncoder(base=5)\n",
    "basencoder.fit_transform(data_df['City']).head(7)"
   ]
  },
  {
   "cell_type": "code",
   "execution_count": 88,
   "metadata": {},
   "outputs": [],
   "source": [
    "data_df['Frequency'] = data_df['Frequency'].replace({'Monthly':0, 'Quatrly':1, 'Half Yearly':2})"
   ]
  },
  {
   "cell_type": "code",
   "execution_count": 89,
   "metadata": {},
   "outputs": [
    {
     "data": {
      "text/plain": [
       "Area\n",
       "AHMEDABAD AMBAVADI    1.879167\n",
       "AHMEDABAD CG ROAD     1.800000\n",
       "AHMEDNAGAR            1.950000\n",
       "AKOLA                 1.938462\n",
       "AMRAVATI              1.975610\n",
       "                        ...   \n",
       "UJJAIN                2.000000\n",
       "VIDISHA               1.673529\n",
       "VIJAYAWADA            1.991228\n",
       "VISHAKHAPATNAM        0.821429\n",
       "YAMUNANAGAR           1.166667\n",
       "Name: Frequency, Length: 80, dtype: float64"
      ]
     },
     "execution_count": 89,
     "metadata": {},
     "output_type": "execute_result"
    }
   ],
   "source": [
    "data_df.groupby('Area')['Frequency'].mean()"
   ]
  },
  {
   "cell_type": "code",
   "execution_count": 93,
   "metadata": {},
   "outputs": [
    {
     "name": "stdout",
     "output_type": "stream",
     "text": [
      "Before Unique count corresponding to Area: 80\n",
      "After Unique count corresponding to Area: 66\n"
     ]
    }
   ],
   "source": [
    "print('Before Unique count corresponding to Area:', data_df['Area'].nunique())\n",
    "print('After Unique count corresponding to Area:', data_df.groupby('Area')['Frequency'].mean().nunique())"
   ]
  },
  {
   "cell_type": "code",
   "execution_count": null,
   "metadata": {},
   "outputs": [],
   "source": []
  },
  {
   "cell_type": "code",
   "execution_count": null,
   "metadata": {},
   "outputs": [],
   "source": []
  }
 ],
 "metadata": {
  "kernelspec": {
   "display_name": "Python 3",
   "language": "python",
   "name": "python3"
  },
  "language_info": {
   "codemirror_mode": {
    "name": "ipython",
    "version": 3
   },
   "file_extension": ".py",
   "mimetype": "text/x-python",
   "name": "python",
   "nbconvert_exporter": "python",
   "pygments_lexer": "ipython3",
   "version": "3.7.6"
  }
 },
 "nbformat": 4,
 "nbformat_minor": 4
}
